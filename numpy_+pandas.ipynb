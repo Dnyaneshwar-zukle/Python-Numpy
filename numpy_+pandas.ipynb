{
  "cells": [
    {
      "cell_type": "markdown",
      "metadata": {
        "id": "view-in-github",
        "colab_type": "text"
      },
      "source": [
        "<a href=\"https://colab.research.google.com/github/Dnyaneshwar-zukle/Python-Numpy/blob/main/numpy_%2Bpandas.ipynb\" target=\"_parent\"><img src=\"https://colab.research.google.com/assets/colab-badge.svg\" alt=\"Open In Colab\"/></a>"
      ]
    },
    {
      "cell_type": "code",
      "execution_count": null,
      "id": "1c340546",
      "metadata": {
        "id": "1c340546",
        "outputId": "03c9e94b-1990-40c6-ab0b-8038888e5155"
      },
      "outputs": [
        {
          "name": "stdout",
          "output_type": "stream",
          "text": [
            "Requirement already satisfied: numpy in c:\\users\\dell\\anaconda3\\lib\\site-packages (1.21.5)\n"
          ]
        }
      ],
      "source": [
        "!pip install numpy"
      ]
    },
    {
      "cell_type": "code",
      "execution_count": null,
      "id": "144e1581",
      "metadata": {
        "id": "144e1581"
      },
      "outputs": [],
      "source": [
        "import numpy as np"
      ]
    },
    {
      "cell_type": "code",
      "execution_count": null,
      "id": "f219d8ec",
      "metadata": {
        "id": "f219d8ec"
      },
      "outputs": [],
      "source": [
        "a=np.array([9,8,6])"
      ]
    },
    {
      "cell_type": "code",
      "execution_count": null,
      "id": "5b75dc27",
      "metadata": {
        "id": "5b75dc27",
        "outputId": "8bd47277-3750-4672-c048-3c0411c9d817"
      },
      "outputs": [
        {
          "data": {
            "text/plain": [
              "array([9, 8, 6])"
            ]
          },
          "execution_count": 7,
          "metadata": {},
          "output_type": "execute_result"
        }
      ],
      "source": [
        "a"
      ]
    },
    {
      "cell_type": "code",
      "execution_count": null,
      "id": "e31c6115",
      "metadata": {
        "id": "e31c6115",
        "outputId": "94026d77-1f2d-4d27-9b00-7113b4c66733"
      },
      "outputs": [
        {
          "data": {
            "text/plain": [
              "numpy.ndarray"
            ]
          },
          "execution_count": 8,
          "metadata": {},
          "output_type": "execute_result"
        }
      ],
      "source": [
        "type(a)"
      ]
    },
    {
      "cell_type": "code",
      "execution_count": null,
      "id": "59815b72",
      "metadata": {
        "id": "59815b72",
        "outputId": "1f08d9e6-bd5e-4fca-b39e-c456f0f52a25"
      },
      "outputs": [
        {
          "data": {
            "text/plain": [
              "1"
            ]
          },
          "execution_count": 10,
          "metadata": {},
          "output_type": "execute_result"
        }
      ],
      "source": [
        "a.ndim # used to check the dimension of an array"
      ]
    },
    {
      "cell_type": "code",
      "execution_count": null,
      "id": "015774bd",
      "metadata": {
        "id": "015774bd"
      },
      "outputs": [],
      "source": [
        "b=np.array([[2,8,5],\n",
        "           [7,9,2]])"
      ]
    },
    {
      "cell_type": "code",
      "execution_count": null,
      "id": "b4841626",
      "metadata": {
        "id": "b4841626",
        "outputId": "1505c5ae-1fac-48c4-fe8b-545c0bd72782"
      },
      "outputs": [
        {
          "data": {
            "text/plain": [
              "array([[2, 8, 5],\n",
              "       [7, 9, 2]])"
            ]
          },
          "execution_count": 12,
          "metadata": {},
          "output_type": "execute_result"
        }
      ],
      "source": [
        "b"
      ]
    },
    {
      "cell_type": "code",
      "execution_count": null,
      "id": "3991c20a",
      "metadata": {
        "id": "3991c20a",
        "outputId": "a4cb8d1e-3cf6-41a8-ad07-3bd2c2cc892e"
      },
      "outputs": [
        {
          "data": {
            "text/plain": [
              "numpy.ndarray"
            ]
          },
          "execution_count": 13,
          "metadata": {},
          "output_type": "execute_result"
        }
      ],
      "source": [
        "type(b)"
      ]
    },
    {
      "cell_type": "code",
      "execution_count": null,
      "id": "69ec4ac6",
      "metadata": {
        "id": "69ec4ac6",
        "outputId": "a548b95c-3ec7-4ade-88b9-1064c13dfb51"
      },
      "outputs": [
        {
          "data": {
            "text/plain": [
              "2"
            ]
          },
          "execution_count": 14,
          "metadata": {},
          "output_type": "execute_result"
        }
      ],
      "source": [
        "b.ndim"
      ]
    },
    {
      "cell_type": "code",
      "execution_count": null,
      "id": "7451a238",
      "metadata": {
        "id": "7451a238"
      },
      "outputs": [],
      "source": [
        "c=np.array([[[4,3,2],\n",
        "            [4,9,1]],\n",
        "            \n",
        "            [[4,5,6],\n",
        "            [5,2,1]]])"
      ]
    },
    {
      "cell_type": "code",
      "execution_count": null,
      "id": "761c537e",
      "metadata": {
        "id": "761c537e",
        "outputId": "4ad4cad2-1d58-4954-9ead-db0827466003"
      },
      "outputs": [
        {
          "data": {
            "text/plain": [
              "array([[[4, 3, 2],\n",
              "        [4, 9, 1]],\n",
              "\n",
              "       [[4, 5, 6],\n",
              "        [5, 2, 1]]])"
            ]
          },
          "execution_count": 20,
          "metadata": {},
          "output_type": "execute_result"
        }
      ],
      "source": [
        "c"
      ]
    },
    {
      "cell_type": "code",
      "execution_count": null,
      "id": "4afb8ab3",
      "metadata": {
        "id": "4afb8ab3",
        "outputId": "7696f39e-6411-4ca4-dc42-317a604a56f6"
      },
      "outputs": [
        {
          "data": {
            "text/plain": [
              "array([9, 8, 6])"
            ]
          },
          "execution_count": 21,
          "metadata": {},
          "output_type": "execute_result"
        }
      ],
      "source": [
        "a"
      ]
    },
    {
      "cell_type": "code",
      "execution_count": null,
      "id": "89c4d063",
      "metadata": {
        "id": "89c4d063"
      },
      "outputs": [],
      "source": [
        "x=np.array([5,3,7])"
      ]
    },
    {
      "cell_type": "code",
      "execution_count": null,
      "id": "358bb4d0",
      "metadata": {
        "id": "358bb4d0",
        "outputId": "edd2f811-df5f-48c4-9afc-64405862c8d4"
      },
      "outputs": [
        {
          "data": {
            "text/plain": [
              "array([5, 3, 7])"
            ]
          },
          "execution_count": 25,
          "metadata": {},
          "output_type": "execute_result"
        }
      ],
      "source": [
        "x"
      ]
    },
    {
      "cell_type": "code",
      "execution_count": null,
      "id": "6b60589a",
      "metadata": {
        "id": "6b60589a",
        "outputId": "f4d2d15e-3f04-4d07-8cef-0ce6b23f6e2b"
      },
      "outputs": [
        {
          "data": {
            "text/plain": [
              "array([14, 11, 13])"
            ]
          },
          "execution_count": 26,
          "metadata": {},
          "output_type": "execute_result"
        }
      ],
      "source": [
        "a+x"
      ]
    },
    {
      "cell_type": "code",
      "execution_count": null,
      "id": "aaa3a1e0",
      "metadata": {
        "id": "aaa3a1e0",
        "outputId": "1642a77f-e178-46e4-864f-2c6f8fe7d29b"
      },
      "outputs": [
        {
          "data": {
            "text/plain": [
              "array([14, 11, 13])"
            ]
          },
          "execution_count": 27,
          "metadata": {},
          "output_type": "execute_result"
        }
      ],
      "source": [
        "np.add(a,x)"
      ]
    },
    {
      "cell_type": "code",
      "execution_count": null,
      "id": "c902ec81",
      "metadata": {
        "id": "c902ec81",
        "outputId": "2a0d28ee-3fc7-4e61-f6c2-ce4a073e6dfa"
      },
      "outputs": [
        {
          "data": {
            "text/plain": [
              "array([ 4,  5, -1])"
            ]
          },
          "execution_count": 28,
          "metadata": {},
          "output_type": "execute_result"
        }
      ],
      "source": [
        "np.subtract(a,x)"
      ]
    },
    {
      "cell_type": "code",
      "execution_count": null,
      "id": "a1f8fb8a",
      "metadata": {
        "id": "a1f8fb8a",
        "outputId": "6786b64a-cfef-4646-9fb5-cc97ec6a45d8"
      },
      "outputs": [
        {
          "data": {
            "text/plain": [
              "array([45, 24, 42])"
            ]
          },
          "execution_count": 29,
          "metadata": {},
          "output_type": "execute_result"
        }
      ],
      "source": [
        "np.multiply(a,x)"
      ]
    },
    {
      "cell_type": "code",
      "execution_count": null,
      "id": "6464bb71",
      "metadata": {
        "id": "6464bb71",
        "outputId": "c6e8eb10-5efa-4750-d5d4-170aa51b87e2"
      },
      "outputs": [
        {
          "data": {
            "text/plain": [
              "array([1.8       , 2.66666667, 0.85714286])"
            ]
          },
          "execution_count": 30,
          "metadata": {},
          "output_type": "execute_result"
        }
      ],
      "source": [
        "np.divide(a,x)"
      ]
    },
    {
      "cell_type": "code",
      "execution_count": null,
      "id": "41dc0aa3",
      "metadata": {
        "id": "41dc0aa3"
      },
      "outputs": [],
      "source": [
        "#element wise"
      ]
    },
    {
      "cell_type": "code",
      "execution_count": null,
      "id": "6d28ac4e",
      "metadata": {
        "id": "6d28ac4e",
        "outputId": "c2a89fab-d18b-4701-8cdd-1c75f0317a79"
      },
      "outputs": [
        {
          "data": {
            "text/plain": [
              "array([False, False, False])"
            ]
          },
          "execution_count": 32,
          "metadata": {},
          "output_type": "execute_result"
        }
      ],
      "source": [
        "np.equal(a,x)"
      ]
    },
    {
      "cell_type": "code",
      "execution_count": null,
      "id": "7e38129b",
      "metadata": {
        "id": "7e38129b",
        "outputId": "01cd932f-b88a-4a2d-fc48-e63fe6a56b87"
      },
      "outputs": [
        {
          "data": {
            "text/plain": [
              "array([9, 8, 6])"
            ]
          },
          "execution_count": 33,
          "metadata": {},
          "output_type": "execute_result"
        }
      ],
      "source": [
        "a"
      ]
    },
    {
      "cell_type": "code",
      "execution_count": null,
      "id": "2d43d54e",
      "metadata": {
        "id": "2d43d54e",
        "outputId": "aff08e0b-996d-4c80-d3e6-856dacdc7311"
      },
      "outputs": [
        {
          "data": {
            "text/plain": [
              "array([5, 3, 7])"
            ]
          },
          "execution_count": 34,
          "metadata": {},
          "output_type": "execute_result"
        }
      ],
      "source": [
        "x"
      ]
    },
    {
      "cell_type": "code",
      "execution_count": null,
      "id": "6f797a79",
      "metadata": {
        "id": "6f797a79"
      },
      "outputs": [],
      "source": [
        "y=np.array([9,0,6])"
      ]
    },
    {
      "cell_type": "code",
      "execution_count": null,
      "id": "74259a32",
      "metadata": {
        "id": "74259a32",
        "outputId": "947974c2-58d1-4de9-e20e-f2a92fae72dd"
      },
      "outputs": [
        {
          "data": {
            "text/plain": [
              "array([ True, False,  True])"
            ]
          },
          "execution_count": 36,
          "metadata": {},
          "output_type": "execute_result"
        }
      ],
      "source": [
        "np.equal(a,y)"
      ]
    },
    {
      "cell_type": "code",
      "execution_count": null,
      "id": "4627eccc",
      "metadata": {
        "id": "4627eccc",
        "outputId": "f28b2f09-4709-4615-bee1-bfde9879e678"
      },
      "outputs": [
        {
          "data": {
            "text/plain": [
              "array([9, 8, 6])"
            ]
          },
          "execution_count": 37,
          "metadata": {},
          "output_type": "execute_result"
        }
      ],
      "source": [
        "a"
      ]
    },
    {
      "cell_type": "code",
      "execution_count": null,
      "id": "be808aa3",
      "metadata": {
        "id": "be808aa3",
        "outputId": "cd64e65d-b2ee-463b-9949-c975e40df731"
      },
      "outputs": [
        {
          "data": {
            "text/plain": [
              "array([9, 0, 6])"
            ]
          },
          "execution_count": 38,
          "metadata": {},
          "output_type": "execute_result"
        }
      ],
      "source": [
        "y"
      ]
    },
    {
      "cell_type": "code",
      "execution_count": null,
      "id": "e62416b0",
      "metadata": {
        "id": "e62416b0"
      },
      "outputs": [],
      "source": [
        "# array wise"
      ]
    },
    {
      "cell_type": "code",
      "execution_count": null,
      "id": "5e673ee8",
      "metadata": {
        "id": "5e673ee8",
        "outputId": "83aed814-f855-4427-e038-123ced89c9be"
      },
      "outputs": [
        {
          "data": {
            "text/plain": [
              "False"
            ]
          },
          "execution_count": 40,
          "metadata": {},
          "output_type": "execute_result"
        }
      ],
      "source": [
        "np.array_equal(a,x)"
      ]
    },
    {
      "cell_type": "code",
      "execution_count": null,
      "id": "0b5c2614",
      "metadata": {
        "id": "0b5c2614",
        "outputId": "b6c1f26e-e703-4e45-a650-8e6cffb3b110"
      },
      "outputs": [
        {
          "data": {
            "text/plain": [
              "array([9, 8, 6])"
            ]
          },
          "execution_count": 41,
          "metadata": {},
          "output_type": "execute_result"
        }
      ],
      "source": [
        "a"
      ]
    },
    {
      "cell_type": "code",
      "execution_count": null,
      "id": "5465d3fe",
      "metadata": {
        "id": "5465d3fe",
        "outputId": "fdfd1fc6-38e5-4f37-c5af-f09bdf62239d"
      },
      "outputs": [
        {
          "data": {
            "text/plain": [
              "array([5, 3, 7])"
            ]
          },
          "execution_count": 42,
          "metadata": {},
          "output_type": "execute_result"
        }
      ],
      "source": [
        "x"
      ]
    },
    {
      "cell_type": "code",
      "execution_count": null,
      "id": "eaa9ccff",
      "metadata": {
        "id": "eaa9ccff"
      },
      "outputs": [],
      "source": [
        "z=np.array([9, 8, 6])"
      ]
    },
    {
      "cell_type": "code",
      "execution_count": null,
      "id": "ebcdb66b",
      "metadata": {
        "id": "ebcdb66b",
        "outputId": "e5419d79-289b-4477-8563-67c50382e65b"
      },
      "outputs": [
        {
          "data": {
            "text/plain": [
              "array([9, 8, 6])"
            ]
          },
          "execution_count": 44,
          "metadata": {},
          "output_type": "execute_result"
        }
      ],
      "source": [
        "z"
      ]
    },
    {
      "cell_type": "code",
      "execution_count": null,
      "id": "16096f1e",
      "metadata": {
        "id": "16096f1e",
        "outputId": "86b8ec41-5b09-4edb-9829-b155d103ba3b"
      },
      "outputs": [
        {
          "data": {
            "text/plain": [
              "array([9, 8, 6])"
            ]
          },
          "execution_count": 45,
          "metadata": {},
          "output_type": "execute_result"
        }
      ],
      "source": [
        "a"
      ]
    },
    {
      "cell_type": "code",
      "execution_count": null,
      "id": "eaf00516",
      "metadata": {
        "id": "eaf00516",
        "outputId": "6a46c769-0403-4927-c44f-29f3cfe94725"
      },
      "outputs": [
        {
          "data": {
            "text/plain": [
              "True"
            ]
          },
          "execution_count": 46,
          "metadata": {},
          "output_type": "execute_result"
        }
      ],
      "source": [
        "np.array_equal(a,z)"
      ]
    },
    {
      "cell_type": "code",
      "execution_count": null,
      "id": "da17551f",
      "metadata": {
        "id": "da17551f",
        "outputId": "09806548-a7d3-4bd4-bfe7-8189e4b4cfda"
      },
      "outputs": [
        {
          "data": {
            "text/plain": [
              "False"
            ]
          },
          "execution_count": 47,
          "metadata": {},
          "output_type": "execute_result"
        }
      ],
      "source": [
        "np.array_equal(a,y)"
      ]
    },
    {
      "cell_type": "code",
      "execution_count": null,
      "id": "c156941f",
      "metadata": {
        "id": "c156941f",
        "outputId": "9c95e11d-86c9-46a5-eb3b-fcdda72017dd"
      },
      "outputs": [
        {
          "data": {
            "text/plain": [
              "array([9, 8, 6])"
            ]
          },
          "execution_count": 48,
          "metadata": {},
          "output_type": "execute_result"
        }
      ],
      "source": [
        "a"
      ]
    },
    {
      "cell_type": "code",
      "execution_count": null,
      "id": "2c6e3c50",
      "metadata": {
        "id": "2c6e3c50",
        "outputId": "e25cc826-7750-4d55-f255-68968275927e"
      },
      "outputs": [
        {
          "data": {
            "text/plain": [
              "array([9, 0, 6])"
            ]
          },
          "execution_count": 49,
          "metadata": {},
          "output_type": "execute_result"
        }
      ],
      "source": [
        "y"
      ]
    },
    {
      "cell_type": "code",
      "execution_count": null,
      "id": "06f5b036",
      "metadata": {
        "id": "06f5b036",
        "outputId": "6a652bb0-73e1-4403-86c8-e36a798ee059"
      },
      "outputs": [
        {
          "data": {
            "text/plain": [
              "array([5, 3, 7])"
            ]
          },
          "execution_count": 50,
          "metadata": {},
          "output_type": "execute_result"
        }
      ],
      "source": [
        "x"
      ]
    },
    {
      "cell_type": "code",
      "execution_count": null,
      "id": "1bb87d32",
      "metadata": {
        "id": "1bb87d32",
        "outputId": "2c82f84e-b5e4-4430-8521-08b7acbfe127"
      },
      "outputs": [
        {
          "data": {
            "text/plain": [
              "array([9, 0, 6])"
            ]
          },
          "execution_count": 51,
          "metadata": {},
          "output_type": "execute_result"
        }
      ],
      "source": [
        "y"
      ]
    },
    {
      "cell_type": "code",
      "execution_count": null,
      "id": "e621fd15",
      "metadata": {
        "id": "e621fd15",
        "outputId": "f9250028-643d-4445-d58a-1467ec3c5b1c"
      },
      "outputs": [
        {
          "data": {
            "text/plain": [
              "array([5, 3, 7, 9, 0, 6])"
            ]
          },
          "execution_count": 52,
          "metadata": {},
          "output_type": "execute_result"
        }
      ],
      "source": [
        "np.concatenate((x,y))"
      ]
    },
    {
      "cell_type": "code",
      "execution_count": null,
      "id": "23fc2559",
      "metadata": {
        "id": "23fc2559",
        "outputId": "93df78db-6abb-4339-d523-966a4ddf8d42"
      },
      "outputs": [
        {
          "data": {
            "text/plain": [
              "array([5, 3, 7, 9, 0, 6])"
            ]
          },
          "execution_count": 54,
          "metadata": {},
          "output_type": "execute_result"
        }
      ],
      "source": [
        "np.hstack((x,y))\n",
        "# horizontal"
      ]
    },
    {
      "cell_type": "code",
      "execution_count": null,
      "id": "5799377d",
      "metadata": {
        "id": "5799377d",
        "outputId": "9009d5ac-a823-4701-eb9a-864cf8f543be"
      },
      "outputs": [
        {
          "data": {
            "text/plain": [
              "array([[5, 3, 7],\n",
              "       [9, 0, 6]])"
            ]
          },
          "execution_count": 55,
          "metadata": {},
          "output_type": "execute_result"
        }
      ],
      "source": [
        "np.vstack((x,y))\n",
        "#vertical"
      ]
    },
    {
      "cell_type": "code",
      "execution_count": null,
      "id": "a0ab0d64",
      "metadata": {
        "id": "a0ab0d64",
        "outputId": "536af7c6-977c-45f9-815c-c41796dedd1c"
      },
      "outputs": [
        {
          "data": {
            "text/plain": [
              "array([5, 3, 7])"
            ]
          },
          "execution_count": 56,
          "metadata": {},
          "output_type": "execute_result"
        }
      ],
      "source": [
        "x"
      ]
    },
    {
      "cell_type": "code",
      "execution_count": null,
      "id": "ae6df3fe",
      "metadata": {
        "id": "ae6df3fe",
        "outputId": "01fbe679-7457-49d3-a08a-cd1ea81a59f7"
      },
      "outputs": [
        {
          "data": {
            "text/plain": [
              "array([9, 0, 6])"
            ]
          },
          "execution_count": 57,
          "metadata": {},
          "output_type": "execute_result"
        }
      ],
      "source": [
        "y"
      ]
    },
    {
      "cell_type": "code",
      "execution_count": null,
      "id": "d1802790",
      "metadata": {
        "id": "d1802790",
        "outputId": "8943f51f-4d85-4053-8e1a-9339f979da24"
      },
      "outputs": [
        {
          "data": {
            "text/plain": [
              "array([[5, 3, 7],\n",
              "       [9, 0, 6]])"
            ]
          },
          "execution_count": 58,
          "metadata": {},
          "output_type": "execute_result"
        }
      ],
      "source": [
        "np.vstack((x,y))"
      ]
    },
    {
      "cell_type": "code",
      "execution_count": null,
      "id": "9c68a83b",
      "metadata": {
        "id": "9c68a83b",
        "outputId": "b755e308-53e5-4422-da2e-10e6121ad904"
      },
      "outputs": [
        {
          "data": {
            "text/plain": [
              "array([[5, 3, 7],\n",
              "       [9, 0, 6]])"
            ]
          },
          "execution_count": 59,
          "metadata": {},
          "output_type": "execute_result"
        }
      ],
      "source": [
        "np.row_stack((x,y))"
      ]
    },
    {
      "cell_type": "code",
      "execution_count": null,
      "id": "87954c8a",
      "metadata": {
        "id": "87954c8a",
        "outputId": "294adf71-a4f6-49d9-9dfe-020d091c812e"
      },
      "outputs": [
        {
          "data": {
            "text/plain": [
              "array([[5, 9],\n",
              "       [3, 0],\n",
              "       [7, 6]])"
            ]
          },
          "execution_count": 60,
          "metadata": {},
          "output_type": "execute_result"
        }
      ],
      "source": [
        "np.column_stack((x,y))"
      ]
    },
    {
      "cell_type": "code",
      "execution_count": null,
      "id": "5d193826",
      "metadata": {
        "id": "5d193826"
      },
      "outputs": [],
      "source": [
        "p=np.array([[9,8,2,1],\n",
        "           [3,2,1,4],\n",
        "           [9,8,3,0],\n",
        "           [9,3,3,2]])"
      ]
    },
    {
      "cell_type": "code",
      "execution_count": null,
      "id": "76de3ee3",
      "metadata": {
        "id": "76de3ee3",
        "outputId": "4666fb67-ff5b-42f6-ba1a-9d09a59d72c7"
      },
      "outputs": [
        {
          "data": {
            "text/plain": [
              "array([[9, 8, 2, 1],\n",
              "       [3, 2, 1, 4],\n",
              "       [9, 8, 3, 0],\n",
              "       [9, 3, 3, 2]])"
            ]
          },
          "execution_count": 62,
          "metadata": {},
          "output_type": "execute_result"
        }
      ],
      "source": [
        "p"
      ]
    },
    {
      "cell_type": "code",
      "execution_count": null,
      "id": "4cbdaeec",
      "metadata": {
        "id": "4cbdaeec",
        "outputId": "04d3b588-c439-4097-dc32-a86979022215"
      },
      "outputs": [
        {
          "data": {
            "text/plain": [
              "[array([[9, 8],\n",
              "        [3, 2],\n",
              "        [9, 8],\n",
              "        [9, 3]]),\n",
              " array([[2, 1],\n",
              "        [1, 4],\n",
              "        [3, 0],\n",
              "        [3, 2]])]"
            ]
          },
          "execution_count": 63,
          "metadata": {},
          "output_type": "execute_result"
        }
      ],
      "source": [
        "np.hsplit(p,2)"
      ]
    },
    {
      "cell_type": "code",
      "execution_count": null,
      "id": "e1acd41c",
      "metadata": {
        "id": "e1acd41c",
        "outputId": "93a7078e-cdfb-45ba-ee80-0427fdf74f83"
      },
      "outputs": [
        {
          "data": {
            "text/plain": [
              "[array([[9, 8, 2, 1],\n",
              "        [3, 2, 1, 4]]),\n",
              " array([[9, 8, 3, 0],\n",
              "        [9, 3, 3, 2]])]"
            ]
          },
          "execution_count": 64,
          "metadata": {},
          "output_type": "execute_result"
        }
      ],
      "source": [
        "np.vsplit(p,2)"
      ]
    },
    {
      "cell_type": "code",
      "execution_count": null,
      "id": "4ef287be",
      "metadata": {
        "id": "4ef287be",
        "outputId": "0a7c67df-2750-4e0f-9c3c-9500d525beff"
      },
      "outputs": [
        {
          "data": {
            "text/plain": [
              "array([[9, 8, 2, 1],\n",
              "       [3, 2, 1, 4],\n",
              "       [9, 8, 3, 0],\n",
              "       [9, 3, 3, 2]])"
            ]
          },
          "execution_count": 65,
          "metadata": {},
          "output_type": "execute_result"
        }
      ],
      "source": [
        "p"
      ]
    },
    {
      "cell_type": "code",
      "execution_count": null,
      "id": "6e45acfc",
      "metadata": {
        "id": "6e45acfc",
        "outputId": "4f02ad9c-6fd1-47d8-9e41-030b843cf440"
      },
      "outputs": [
        {
          "data": {
            "text/plain": [
              "array([[9, 8, 2, 1]])"
            ]
          },
          "execution_count": 66,
          "metadata": {},
          "output_type": "execute_result"
        }
      ],
      "source": [
        "p[0:0+1 , 0:3+1]"
      ]
    },
    {
      "cell_type": "code",
      "execution_count": null,
      "id": "35379ad6",
      "metadata": {
        "id": "35379ad6",
        "outputId": "e1f71657-06d9-4d2d-8f64-6535219476a0"
      },
      "outputs": [
        {
          "data": {
            "text/plain": [
              "array([[9, 8, 2, 1]])"
            ]
          },
          "execution_count": 67,
          "metadata": {},
          "output_type": "execute_result"
        }
      ],
      "source": [
        "p[0:1 , 0:4]"
      ]
    },
    {
      "cell_type": "code",
      "execution_count": null,
      "id": "d373efb7",
      "metadata": {
        "id": "d373efb7",
        "outputId": "15323d0d-8a72-40af-f4fa-589acf3e2b0d"
      },
      "outputs": [
        {
          "data": {
            "text/plain": [
              "array([9, 8, 2, 1])"
            ]
          },
          "execution_count": 68,
          "metadata": {},
          "output_type": "execute_result"
        }
      ],
      "source": [
        "p[0]"
      ]
    },
    {
      "cell_type": "code",
      "execution_count": null,
      "id": "5458aad0",
      "metadata": {
        "id": "5458aad0",
        "outputId": "107fdf78-07e7-4c40-f9fd-14a4a403d9ca"
      },
      "outputs": [
        {
          "data": {
            "text/plain": [
              "array([9, 8, 3, 0])"
            ]
          },
          "execution_count": 69,
          "metadata": {},
          "output_type": "execute_result"
        }
      ],
      "source": [
        "p[2]"
      ]
    },
    {
      "cell_type": "code",
      "execution_count": null,
      "id": "12b9b642",
      "metadata": {
        "id": "12b9b642",
        "outputId": "a7a197f9-9787-48a6-9da4-5e007ce27ace"
      },
      "outputs": [
        {
          "data": {
            "text/plain": [
              "array([9, 3, 3, 2])"
            ]
          },
          "execution_count": 70,
          "metadata": {},
          "output_type": "execute_result"
        }
      ],
      "source": [
        "p[3]"
      ]
    },
    {
      "cell_type": "code",
      "execution_count": null,
      "id": "d1beb2f3",
      "metadata": {
        "id": "d1beb2f3",
        "outputId": "075c4f3a-bc7b-4f33-9dd1-d98a899c2bd2"
      },
      "outputs": [
        {
          "data": {
            "text/plain": [
              "array([[2, 1]])"
            ]
          },
          "execution_count": 71,
          "metadata": {},
          "output_type": "execute_result"
        }
      ],
      "source": [
        "p[1:1+1,1:2+1]"
      ]
    },
    {
      "cell_type": "code",
      "execution_count": null,
      "id": "60ff3503",
      "metadata": {
        "id": "60ff3503",
        "outputId": "da7627fe-efd2-4c9a-ad9d-fa8e9ad3e7aa"
      },
      "outputs": [
        {
          "data": {
            "text/plain": [
              "array([[2, 1]])"
            ]
          },
          "execution_count": 72,
          "metadata": {},
          "output_type": "execute_result"
        }
      ],
      "source": [
        "p[1:2,1:3]"
      ]
    },
    {
      "cell_type": "code",
      "execution_count": null,
      "id": "ffc53091",
      "metadata": {
        "id": "ffc53091",
        "outputId": "c298ee3d-6c2f-4710-8c46-a816ed274b3c"
      },
      "outputs": [
        {
          "data": {
            "text/plain": [
              "array([2, 1])"
            ]
          },
          "execution_count": 74,
          "metadata": {},
          "output_type": "execute_result"
        }
      ],
      "source": [
        "p[1,1:3]"
      ]
    },
    {
      "cell_type": "code",
      "execution_count": null,
      "id": "d4018cef",
      "metadata": {
        "id": "d4018cef",
        "outputId": "e923d029-9164-414b-e58b-7b387888b57c"
      },
      "outputs": [
        {
          "data": {
            "text/plain": [
              "array([[2]])"
            ]
          },
          "execution_count": 75,
          "metadata": {},
          "output_type": "execute_result"
        }
      ],
      "source": [
        "p[3:3+1,3:3+1]"
      ]
    },
    {
      "cell_type": "code",
      "execution_count": null,
      "id": "a122bb82",
      "metadata": {
        "id": "a122bb82",
        "outputId": "187b6938-cdb3-489c-f60e-6c1acb133ab3"
      },
      "outputs": [
        {
          "data": {
            "text/plain": [
              "array([[2]])"
            ]
          },
          "execution_count": 76,
          "metadata": {},
          "output_type": "execute_result"
        }
      ],
      "source": [
        "p[3:4,3:4]"
      ]
    },
    {
      "cell_type": "code",
      "execution_count": null,
      "id": "4739a562",
      "metadata": {
        "id": "4739a562",
        "outputId": "fea7634b-bd78-45e0-bca3-80a647871ca2"
      },
      "outputs": [
        {
          "data": {
            "text/plain": [
              "2"
            ]
          },
          "execution_count": 77,
          "metadata": {},
          "output_type": "execute_result"
        }
      ],
      "source": [
        "p[3,3]"
      ]
    },
    {
      "cell_type": "code",
      "execution_count": null,
      "id": "858043e2",
      "metadata": {
        "id": "858043e2",
        "outputId": "5d3d1ed5-2cf3-4625-83e9-d0892fb69623"
      },
      "outputs": [
        {
          "data": {
            "text/plain": [
              "array([[9, 8, 2, 1],\n",
              "       [3, 2, 1, 4],\n",
              "       [9, 8, 3, 0],\n",
              "       [9, 3, 3, 2]])"
            ]
          },
          "execution_count": 78,
          "metadata": {},
          "output_type": "execute_result"
        }
      ],
      "source": [
        "p"
      ]
    },
    {
      "cell_type": "code",
      "execution_count": null,
      "id": "701416b0",
      "metadata": {
        "id": "701416b0",
        "outputId": "813964b9-b6d2-4bd8-b449-e8cadb4a76a5"
      },
      "outputs": [
        {
          "data": {
            "text/plain": [
              "array([[2, 1],\n",
              "       [8, 3]])"
            ]
          },
          "execution_count": 79,
          "metadata": {},
          "output_type": "execute_result"
        }
      ],
      "source": [
        "p[1:3,1:3]"
      ]
    },
    {
      "cell_type": "code",
      "execution_count": null,
      "id": "544bc115",
      "metadata": {
        "id": "544bc115",
        "outputId": "5c31efef-5c0b-487e-8ff8-820ff26cc7f0"
      },
      "outputs": [
        {
          "data": {
            "text/plain": [
              "array([[9, 8, 2, 1],\n",
              "       [3, 2, 1, 4],\n",
              "       [9, 8, 3, 0],\n",
              "       [9, 3, 3, 2]])"
            ]
          },
          "execution_count": 80,
          "metadata": {},
          "output_type": "execute_result"
        }
      ],
      "source": [
        "p"
      ]
    },
    {
      "cell_type": "code",
      "execution_count": null,
      "id": "392877f9",
      "metadata": {
        "id": "392877f9",
        "outputId": "3842b2f3-b81c-4f9c-c26e-919cafd31ce8"
      },
      "outputs": [
        {
          "data": {
            "text/plain": [
              "array([[0],\n",
              "       [2]])"
            ]
          },
          "execution_count": 81,
          "metadata": {},
          "output_type": "execute_result"
        }
      ],
      "source": [
        "p[2:4,3:4]"
      ]
    },
    {
      "cell_type": "code",
      "execution_count": null,
      "id": "9ba890f6",
      "metadata": {
        "id": "9ba890f6",
        "outputId": "42bd843d-7e5e-458e-eb43-86a7491bcdb4"
      },
      "outputs": [
        {
          "data": {
            "text/plain": [
              "array([0, 2])"
            ]
          },
          "execution_count": 82,
          "metadata": {},
          "output_type": "execute_result"
        }
      ],
      "source": [
        "p[2:4,3]"
      ]
    },
    {
      "cell_type": "code",
      "execution_count": null,
      "id": "d73d61a2",
      "metadata": {
        "id": "d73d61a2",
        "outputId": "aa92b0eb-d2e9-40da-ddb6-f664b38ee129"
      },
      "outputs": [
        {
          "name": "stdout",
          "output_type": "stream",
          "text": [
            "Requirement already satisfied: pandas in c:\\users\\dell\\anaconda3\\lib\\site-packages (1.4.4)\n",
            "Requirement already satisfied: python-dateutil>=2.8.1 in c:\\users\\dell\\anaconda3\\lib\\site-packages (from pandas) (2.8.2)\n",
            "Requirement already satisfied: pytz>=2020.1 in c:\\users\\dell\\anaconda3\\lib\\site-packages (from pandas) (2022.1)\n",
            "Requirement already satisfied: numpy>=1.18.5 in c:\\users\\dell\\anaconda3\\lib\\site-packages (from pandas) (1.21.5)\n",
            "Requirement already satisfied: six>=1.5 in c:\\users\\dell\\anaconda3\\lib\\site-packages (from python-dateutil>=2.8.1->pandas) (1.16.0)\n"
          ]
        }
      ],
      "source": [
        "!pip install  pandas"
      ]
    },
    {
      "cell_type": "code",
      "execution_count": null,
      "id": "0a601830",
      "metadata": {
        "id": "0a601830"
      },
      "outputs": [],
      "source": [
        "import pandas as pd\n",
        "#pd--> alias / sudo name"
      ]
    },
    {
      "cell_type": "code",
      "execution_count": null,
      "id": "6185ff27",
      "metadata": {
        "id": "6185ff27"
      },
      "outputs": [],
      "source": []
    }
  ],
  "metadata": {
    "kernelspec": {
      "display_name": "Python 3 (ipykernel)",
      "language": "python",
      "name": "python3"
    },
    "language_info": {
      "codemirror_mode": {
        "name": "ipython",
        "version": 3
      },
      "file_extension": ".py",
      "mimetype": "text/x-python",
      "name": "python",
      "nbconvert_exporter": "python",
      "pygments_lexer": "ipython3",
      "version": "3.9.13"
    },
    "colab": {
      "provenance": [],
      "include_colab_link": true
    }
  },
  "nbformat": 4,
  "nbformat_minor": 5
}